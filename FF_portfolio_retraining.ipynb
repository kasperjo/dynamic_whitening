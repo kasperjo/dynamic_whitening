{
 "cells": [
  {
   "cell_type": "code",
   "execution_count": 4,
   "metadata": {},
   "outputs": [
    {
     "name": "stdout",
     "output_type": "stream",
     "text": [
      "The autoreload extension is already loaded. To reload it, use:\n",
      "  %reload_ext autoreload\n"
     ]
    }
   ],
   "source": [
    "from whitening_model import *\n",
    "import pandas as pd\n",
    "from utils import *\n",
    "from tqdm import trange\n",
    "import seaborn as sns\n",
    "import matplotlib.pyplot as plt\n",
    "from trading_model import *\n",
    "from AR_model import *\n",
    "import itertools\n",
    "sns.set()\n",
    "sns.set(font_scale=1.5)\n",
    "import scipy\n",
    "\n",
    "%load_ext autoreload\n",
    "%autoreload 2"
   ]
  },
  {
   "cell_type": "code",
   "execution_count": 5,
   "metadata": {},
   "outputs": [],
   "source": [
    "FF = pd.read_csv('FF_data.CSV')\n",
    "FF = FF.rename(columns={'Unnamed: 0': \"date\"})\n",
    "FF.index = pd.to_datetime(FF['date'].astype(str), format='%Y/%m/%d')\n",
    "FF = FF.drop(['date', 'RF'], axis=1)\n",
    "FF = FF/100\n",
    "# FF = FF.loc['1985-01-01':'2000-01-01']\n",
    "# FF = FF.loc['2000-01-01':]\n",
    "\n",
    "\n",
    "train_frac = 0.35\n",
    "val_frac = 0.35\n",
    "train_len = int(train_frac*FF.shape[0])\n",
    "val_len = int(val_frac*FF.shape[0])\n",
    "data = FF.values\n",
    "dates = FF.index"
   ]
  },
  {
   "cell_type": "markdown",
   "metadata": {},
   "source": [
    "# EWMA benchmark"
   ]
  },
  {
   "cell_type": "code",
   "execution_count": 6,
   "metadata": {},
   "outputs": [
    {
     "name": "stdout",
     "output_type": "stream",
     "text": [
      "Correlation: -1.07%\n",
      "Beta:  -0.14\n",
      "Correct sign: 51.19%\n",
      "Observed positive returns: 50.10%\n",
      "Excess sign: 1.09%\n"
     ]
    }
   ],
   "source": [
    "T_half = 50\n",
    "\n",
    "beta = np.exp(-np.log(2)/T_half)\n",
    "r_ewmas = get_EWMAs(data, beta)\n",
    "r_hat_ewmas = r_ewmas[train_len+val_len:-1]\n",
    "data_test_ewma = data[train_len+val_len+1:]\n",
    "dates_ewma = dates[train_len+val_len:-1]\n",
    "\n",
    "slope, intercept, r_value, p_value, std_err = scipy.stats.linregress(r_hat_ewmas.flatten(), data_test_ewma.flatten())\n",
    "print(f\"Correlation: {r_value:.2%}\")\n",
    "print(f\"Beta:  {slope:.2}\")\n",
    "print(f\"Correct sign: {np.mean(np.sign(r_hat_ewmas) == np.sign(data_test_ewma)):.2%}\")\n",
    "print(f\"Observed positive returns: {np.mean(data_test_ewma>0):.2%}\")\n",
    "print(f\"Excess sign: {np.mean(np.sign(r_hat_ewmas) == np.sign(data_test_ewma))-np.mean(data_test_ewma>0):.2%}\")"
   ]
  },
  {
   "cell_type": "markdown",
   "metadata": {},
   "source": [
    "# No standardization"
   ]
  },
  {
   "cell_type": "code",
   "execution_count": 7,
   "metadata": {},
   "outputs": [
    {
     "name": "stdout",
     "output_type": "stream",
     "text": [
      "Correlation: 3.57%\n",
      "Beta:  0.23\n",
      "Correct sign: 50.59%\n",
      "Observed positive returns: 50.10%\n",
      "Excess sign: 0.49%\n"
     ]
    }
   ],
   "source": [
    "### Get data in lagged format\n",
    "memory_nw = 1\n",
    "alpha_nw = 1e-5\n",
    "\n",
    "pred_horizon = 0\n",
    "weighted = True\n",
    "\n",
    "update_period = 252\n",
    "\n",
    "### Define features\n",
    "sigmas = np.std(data[:train_len+val_len], axis=0).reshape(1,-1)\n",
    "hi = get_hi(data, sigmas)\n",
    "lo = get_lo(data, sigmas)\n",
    "pos = get_pos(data)\n",
    "neg = get_neg(data)\n",
    "\n",
    "ma2 = moving_average(data, 2)\n",
    "sigmas2 = np.std(ma2[:train_len+val_len], axis=0).reshape(1,-1)\n",
    "hi2 = get_hi(ma2, sigmas2)\n",
    "lo2 = get_lo(ma2, sigmas2)\n",
    "pos2 = get_pos(ma2)\n",
    "neg2 = get_neg(ma2)\n",
    "\n",
    "ma4 = moving_average(data, 4)\n",
    "sigmas4 = np.std(ma4[:train_len+val_len], axis=0).reshape(1,-1)\n",
    "hi4 = get_hi(ma4, sigmas4)\n",
    "lo4 = get_lo(ma4, sigmas4)\n",
    "pos4 = get_pos(ma4)\n",
    "neg4 = get_neg(ma4)\n",
    "\n",
    "ma8 = moving_average(data, 8)\n",
    "sigmas8 = np.std(ma8[:train_len+val_len], axis=0).reshape(1,-1)\n",
    "hi8 = get_hi(ma8, sigmas8)\n",
    "lo8 = get_lo(ma8, sigmas8)\n",
    "pos8 = get_pos(ma8)\n",
    "neg8 = get_neg(ma8)\n",
    "\n",
    "ma16 = moving_average(data, 16)\n",
    "sigmas16 = np.std(ma16[:train_len+val_len], axis=0).reshape(1,-1)\n",
    "hi16 = get_hi(ma16, sigmas16)\n",
    "lo16 = get_lo(ma16, sigmas16)\n",
    "pos16 = get_pos(ma16)\n",
    "neg16 = get_neg(ma16)\n",
    "\n",
    "ma32 = moving_average(data, 32)\n",
    "sigmas32 = np.std(ma32[:train_len+val_len], axis=0).reshape(1,-1)\n",
    "hi32 = get_hi(ma32, sigmas32)\n",
    "lo32 = get_lo(ma32, sigmas32)\n",
    "pos32 = get_pos(ma32)\n",
    "neg32 = get_neg(ma32)\n",
    "\n",
    "features = np.hstack([hi, lo, pos, neg, ma2, ma4, ma8, ma16, ma32, hi2, hi4, hi8, hi16, hi32, lo2, lo4, lo8, lo16, lo32,\\\n",
    "    pos2, pos4, pos8, pos16, pos32, neg2, neg4, neg8, neg16, neg32])\n",
    "\n",
    "\n",
    "X_lagged, y_lagged, R_lagged, dates_lagged = get_AR_format_with_features(data, memory_nw, features, dates=dates, pred_horizon=pred_horizon)\n",
    "X_train = X_lagged[:, train_len:train_len+val_len]\n",
    "y_train = y_lagged[:, train_len:train_len+val_len]\n",
    "X_test = X_lagged[:, train_len+val_len:]\n",
    "y_test = y_lagged[:, train_len+val_len:]\n",
    "R_train = R_lagged[:train_len+val_len]\n",
    "R_test_nw = R_lagged[train_len+val_len:]\n",
    "dates_test_nw = dates_lagged[train_len+val_len:]\n",
    "\n",
    "As_nw, X_tests, R_tests_nw = get_As(X_train, y_train, X_test, y_test, R_test_nw, alpha_nw, weighted, update_period=update_period)\n",
    "r_hat_nw, R = predict_periodically(As_nw, X_tests, R_tests_nw)\n",
    "\n",
    "# A_nw = get_A(X_train, y_train, alpha_nw, weighted=weighted)\n",
    "# r_hat_nw = predict(A_nw, X_test) \n",
    "\n",
    "slope, intercept, r_value, p_value, std_err = scipy.stats.linregress(r_hat_nw.flatten(), R_test_nw.flatten())\n",
    "print(f\"Correlation: {r_value:.2%}\")\n",
    "print(f\"Beta:  {slope:.2}\")\n",
    "print(f\"Correct sign: {np.mean(np.sign(r_hat_nw) == np.sign(R_test_nw)):.2%}\")\n",
    "print(f\"Observed positive returns: {np.mean(R_test_nw>0):.2%}\")\n",
    "print(f\"Excess sign: {np.mean(np.sign(r_hat_nw) == np.sign(R_test_nw))-np.mean(R_test_nw>0):.2%}\")"
   ]
  },
  {
   "cell_type": "markdown",
   "metadata": {},
   "source": [
    "# Regular standardization"
   ]
  },
  {
   "cell_type": "code",
   "execution_count": 8,
   "metadata": {},
   "outputs": [
    {
     "name": "stdout",
     "output_type": "stream",
     "text": [
      "Correlation: 3.70%\n",
      "Beta:  0.29\n",
      "Correct sign: 49.85%\n",
      "Observed positive returns: 50.10%\n",
      "Excess sign: -0.25%\n"
     ]
    }
   ],
   "source": [
    "### Get data in lagged format\n",
    "memory_std = 1\n",
    "alpha_std = 1\n",
    "\n",
    "pred_horizon = 0\n",
    "weighted = True\n",
    "\n",
    "r_tildes, sqrt_Sigma_hat = get_standerdized_data(data, train_len)\n",
    "\n",
    "### Define features\n",
    "sigmas = np.std(r_tildes[:train_len+val_len], axis=0).reshape(1,-1)\n",
    "hi = get_hi(r_tildes, sigmas)\n",
    "lo = get_lo(r_tildes, sigmas)\n",
    "pos = get_pos(r_tildes)\n",
    "neg = get_neg(r_tildes)\n",
    "\n",
    "ma2 = moving_average(r_tildes, 2)\n",
    "sigmas2 = np.std(ma2[:train_len+val_len], axis=0).reshape(1,-1)\n",
    "hi2 = get_hi(ma2, sigmas2)\n",
    "lo2 = get_lo(ma2, sigmas2)\n",
    "pos2 = get_pos(ma2)\n",
    "neg2 = get_neg(ma2)\n",
    "\n",
    "ma4 = moving_average(r_tildes, 4)\n",
    "sigmas4 = np.std(ma4[:train_len+val_len], axis=0).reshape(1,-1)\n",
    "hi4 = get_hi(ma4, sigmas4)\n",
    "lo4 = get_lo(ma4, sigmas4)\n",
    "pos4 = get_pos(ma4)\n",
    "neg4 = get_neg(ma4)\n",
    "\n",
    "ma8 = moving_average(r_tildes, 8)\n",
    "sigmas8 = np.std(ma8[:train_len+val_len], axis=0).reshape(1,-1)\n",
    "hi8 = get_hi(ma8, sigmas8)\n",
    "lo8 = get_lo(ma8, sigmas8)\n",
    "pos8 = get_pos(ma8)\n",
    "neg8 = get_neg(ma8)\n",
    "\n",
    "ma16 = moving_average(r_tildes, 16)\n",
    "sigmas16 = np.std(ma16[:train_len+val_len], axis=0).reshape(1,-1)\n",
    "hi16 = get_hi(ma16, sigmas16)\n",
    "lo16 = get_lo(ma16, sigmas16)\n",
    "pos16 = get_pos(ma16)\n",
    "neg16 = get_neg(ma16)\n",
    "\n",
    "ma32 = moving_average(r_tildes, 32)\n",
    "sigmas32 = np.std(ma32[:train_len+val_len], axis=0).reshape(1,-1)\n",
    "hi32 = get_hi(ma32, sigmas32)\n",
    "lo32 = get_lo(ma32, sigmas32)\n",
    "pos32 = get_pos(ma32)\n",
    "neg32 = get_neg(ma32)\n",
    "\n",
    "features = np.hstack([hi, lo, pos, neg, ma2, ma4, ma8, ma16, ma32, hi2, hi4, hi8, hi16, hi32, lo2, lo4, lo8, lo16, lo32,\\\n",
    "    pos2, pos4, pos8, pos16, pos32, neg2, neg4, neg8, neg16, neg32])\n",
    "\n",
    "\n",
    "\n",
    "X_lagged, y_lagged, R_lagged, dates_lagged = get_AR_format_with_features(r_tildes, memory_std, features, data, dates=dates, pred_horizon=pred_horizon)\n",
    "\n",
    "X_train = X_lagged[:, :train_len+val_len]\n",
    "y_train = y_lagged[:, :train_len+val_len]\n",
    "\n",
    "X_test = X_lagged[:, train_len+val_len:]\n",
    "y_test = y_lagged[:, train_len+val_len:]\n",
    "R_train = R_lagged[:train_len+val_len]\n",
    "R_test_std = R_lagged[train_len+val_len:]\n",
    "dates_test_std = dates_lagged[train_len+val_len:]\n",
    "\n",
    "\n",
    "# Train model\n",
    "A_full = get_A(X_train, y_train, alpha_std, weighted=weighted)\n",
    "r_tilde_hat_std = predict(A_full, X_test) \n",
    "\n",
    "r_hat_std = (sqrt_Sigma_hat @ r_tilde_hat_std.T).T\n",
    "\n",
    "# print(f\"Correlatio tilde: {np.corrcoef(r_tilde_hat_std.flatten(), y_test.T.flatten())[0,1]:.2%}\")\n",
    "# print(f\"Correlatio r: {np.corrcoef(r_hat_std.flatten(), R_test_std.flatten())[0,1]:.2%}\")\n",
    "\n",
    "slope, intercept, r_value, p_value, std_err = scipy.stats.linregress(r_hat_std.flatten(), R_test_std.flatten())\n",
    "print(f\"Correlation: {r_value:.2%}\")\n",
    "print(f\"Beta:  {slope:.2}\")\n",
    "print(f\"Correct sign: {np.mean(np.sign(r_hat_std) == np.sign(R_test_std)):.2%}\")\n",
    "print(f\"Observed positive returns: {np.mean(R_test_std>0):.2%}\")\n",
    "print(f\"Excess sign: {np.mean(np.sign(r_hat_std) == np.sign(R_test_std))-np.mean(R_test_std>0):.2%}\")"
   ]
  },
  {
   "cell_type": "markdown",
   "metadata": {},
   "source": [
    "# Dynamic standardization"
   ]
  },
  {
   "cell_type": "code",
   "execution_count": 9,
   "metadata": {},
   "outputs": [
    {
     "name": "stdout",
     "output_type": "stream",
     "text": [
      "Correlation: 5.44%\n",
      "Beta:  0.51\n",
      "Excess signs: 1.12%\n"
     ]
    }
   ],
   "source": [
    "### Get data in lagged format\n",
    "memory_full = 1\n",
    "alpha_full = 1\n",
    "\n",
    "pred_horizon = 0\n",
    "weighted = True\n",
    "update_period = 252\n",
    "\n",
    "\n",
    "T_half = 50\n",
    "\n",
    "beta = np.exp(-np.log(2)/T_half)\n",
    "EWMAs, r_tildes, R_new, skipped_R = get_whitened_data(data, whitener='Cov', beta=beta, EWMA_reg=0)\n",
    "\n",
    "### Define features\n",
    "sigmas = np.std(r_tildes[:train_len+val_len], axis=0).reshape(1,-1)\n",
    "hi = get_hi(r_tildes, sigmas)\n",
    "lo = get_lo(r_tildes, sigmas)\n",
    "pos = get_pos(r_tildes)\n",
    "neg = get_neg(r_tildes)\n",
    "\n",
    "ma2 = moving_average(r_tildes, 2)\n",
    "sigmas2 = np.std(ma2[:train_len+val_len], axis=0).reshape(1,-1)\n",
    "hi2 = get_hi(ma2, sigmas2)\n",
    "lo2 = get_lo(ma2, sigmas2)\n",
    "pos2 = get_pos(ma2)\n",
    "neg2 = get_neg(ma2)\n",
    "\n",
    "ma4 = moving_average(r_tildes, 4)\n",
    "sigmas4 = np.std(ma4[:train_len+val_len], axis=0).reshape(1,-1)\n",
    "hi4 = get_hi(ma4, sigmas4)\n",
    "lo4 = get_lo(ma4, sigmas4)\n",
    "pos4 = get_pos(ma4)\n",
    "neg4 = get_neg(ma4)\n",
    "\n",
    "ma8 = moving_average(r_tildes, 8)\n",
    "sigmas8 = np.std(ma8[:train_len+val_len], axis=0).reshape(1,-1)\n",
    "hi8 = get_hi(ma8, sigmas8)\n",
    "lo8 = get_lo(ma8, sigmas8)\n",
    "pos8 = get_pos(ma8)\n",
    "neg8 = get_neg(ma8)\n",
    "\n",
    "ma16 = moving_average(r_tildes, 16)\n",
    "sigmas16 = np.std(ma16[:train_len+val_len], axis=0).reshape(1,-1)\n",
    "hi16 = get_hi(ma16, sigmas16)\n",
    "lo16 = get_lo(ma16, sigmas16)\n",
    "pos16 = get_pos(ma16)\n",
    "neg16 = get_neg(ma16)\n",
    "\n",
    "ma32 = moving_average(r_tildes, 32)\n",
    "sigmas32 = np.std(ma32[:train_len+val_len], axis=0).reshape(1,-1)\n",
    "hi32 = get_hi(ma32, sigmas32)\n",
    "lo32 = get_lo(ma32, sigmas32)\n",
    "pos32 = get_pos(ma32)\n",
    "neg32 = get_neg(ma32)\n",
    "\n",
    "features = np.hstack([hi, lo, pos, neg, ma2, ma4, ma8, ma16, ma32, hi2, hi4, hi8, hi16, hi32, lo2, lo4, lo8, lo16, lo32,\\\n",
    "    pos2, pos4, pos8, pos16, pos32, neg2, neg4, neg8, neg16, neg32])\n",
    " \n",
    "X_lagged, y_lagged, R_lagged, EWMAs_lagged,\\\n",
    "     dates_lagged = get_AR_format_with_features(r_tildes, memory_full, features, R_new, EWMAs, dates=dates[skipped_R:], pred_horizon=pred_horizon)\n",
    "X_train = X_lagged[:, :train_len+val_len]\n",
    "y_train = y_lagged[:, :train_len+val_len]\n",
    "\n",
    "X_test = X_lagged[:, train_len+val_len:]\n",
    "y_test = y_lagged[:, train_len+val_len:]\n",
    "EWMAs_train = EWMAs_lagged[:train_len+val_len]\n",
    "EWMAs_test = EWMAs_lagged[train_len+val_len:]\n",
    "R_train = R_lagged[:train_len+val_len]\n",
    "R_test_full = R_lagged[train_len+val_len:]\n",
    "dates_test_full = dates_lagged[train_len+val_len:]\n",
    "\n",
    "\n",
    "# Train model\n",
    "As_full, X_tests, R_tests_full = get_As(X_train, y_train, X_test, y_test, R_test_full, alpha_full, weighted, update_period=update_period)\n",
    "r_tilde_hat, R = predict_periodically(As_full, X_tests, R_tests_full)\n",
    "r_hat_full = get_R(EWMAs_test, r_tilde_hat)\n",
    "\n",
    "slope, intercept, r_value, p_value, std_err = scipy.stats.linregress(r_hat_full.flatten(), R_test_full.flatten())\n",
    "print(f\"Correlation: {r_value:.2%}\")\n",
    "print(f\"Beta:  {slope:.2}\")\n",
    "print(f\"Excess signs: {np.mean(np.sign(r_hat_full) == np.sign(R_test_full))-np.mean(R_test_full>0):.2%}\")"
   ]
  },
  {
   "cell_type": "markdown",
   "metadata": {},
   "source": [
    "# Iterated whitening"
   ]
  },
  {
   "cell_type": "code",
   "execution_count": 10,
   "metadata": {},
   "outputs": [
    {
     "name": "stdout",
     "output_type": "stream",
     "text": [
      "Correlation: 6.33%\n",
      "Beta:  0.42\n",
      "Excess signs: 1.28%\n"
     ]
    }
   ],
   "source": [
    "memory_tripple = 1\n",
    "alpha_tripple = 0.1\n",
    "\n",
    "pred_horizon = 0\n",
    "weighted = True\n",
    "update_period = 252\n",
    "\n",
    "\n",
    "T_half1 = 5\n",
    "T_half2 = 21\n",
    "T_half3 = 63\n",
    "\n",
    "beta1 = np.exp(-np.log(2)/T_half1)\n",
    "beta2 = np.exp(-np.log(2)/T_half2)\n",
    "beta3 = np.exp(-np.log(2)/T_half3)\n",
    "\n",
    "(sqrt_size_hats, sqrt_V_hats, sqrt_Sigma_hats), (r_tildes_size, r_tildes_var, r_tildes_full), R_new, skipped_R  \\\n",
    "    = get_whitened_data(data, whitener='tripple', beta=(beta1,beta2,beta3), EWMA_reg=0)\n",
    "EWMAs = (sqrt_size_hats, sqrt_V_hats, sqrt_Sigma_hats)\n",
    "tildes = (r_tildes_size, r_tildes_var, r_tildes_full)\n",
    "\n",
    "\n",
    "### Define features\n",
    "sigmas = np.std(r_tildes_full[:train_len+val_len], axis=0).reshape(1,-1)\n",
    "hi = get_hi(r_tildes_full, sigmas)\n",
    "lo = get_lo(r_tildes_full, sigmas)\n",
    "pos = get_pos(r_tildes_full)\n",
    "neg = get_neg(r_tildes_full)\n",
    "\n",
    "ma2 = moving_average(r_tildes_full, 2)\n",
    "sigmas2 = np.std(ma2[:train_len+val_len], axis=0).reshape(1,-1)\n",
    "hi2 = get_hi(ma2, sigmas2)\n",
    "lo2 = get_lo(ma2, sigmas2)\n",
    "pos2 = get_pos(ma2)\n",
    "neg2 = get_neg(ma2)\n",
    "\n",
    "ma4 = moving_average(r_tildes_full, 4)\n",
    "sigmas4 = np.std(ma4[:train_len+val_len], axis=0).reshape(1,-1)\n",
    "hi4 = get_hi(ma4, sigmas4)\n",
    "lo4 = get_lo(ma4, sigmas4)\n",
    "pos4 = get_pos(ma4)\n",
    "neg4 = get_neg(ma4)\n",
    "\n",
    "ma8 = moving_average(r_tildes_full, 8)\n",
    "sigmas8 = np.std(ma8[:train_len+val_len], axis=0).reshape(1,-1)\n",
    "hi8 = get_hi(ma8, sigmas8)\n",
    "lo8 = get_lo(ma8, sigmas8)\n",
    "pos8 = get_pos(ma8)\n",
    "neg8 = get_neg(ma8)\n",
    "\n",
    "ma16 = moving_average(r_tildes_full, 16)\n",
    "sigmas16 = np.std(ma16[:train_len+val_len], axis=0).reshape(1,-1)\n",
    "hi16 = get_hi(ma16, sigmas16)\n",
    "lo16 = get_lo(ma16, sigmas16)\n",
    "pos16 = get_pos(ma16)\n",
    "neg16 = get_neg(ma16)\n",
    "\n",
    "ma32 = moving_average(r_tildes_full, 32)\n",
    "sigmas32 = np.std(ma32[:train_len+val_len], axis=0).reshape(1,-1)\n",
    "hi32 = get_hi(ma32, sigmas32)\n",
    "lo32 = get_lo(ma32, sigmas32)\n",
    "pos32 = get_pos(ma32)\n",
    "neg32 = get_neg(ma32)\n",
    "\n",
    "features = np.hstack([hi, lo, pos, neg, ma2, ma4, ma8, ma16, ma32, hi2, hi4, hi8, hi16, hi32, lo2, lo4, lo8, lo16, lo32,\\\n",
    "    pos2, pos4, pos8, pos16, pos32, neg2, neg4, neg8, neg16, neg32])\n",
    "\n",
    "### Get data in lagged format\n",
    "X_lagged, y_lagged, R_lagged, EWMAs_lagged = get_AR_format_with_features(r_tildes_full, memory_tripple, features, R_new, EWMAs, pred_horizon=pred_horizon)\n",
    "\n",
    "X_train = X_lagged[:, :train_len+val_len]\n",
    "y_train = y_lagged[:, :train_len+val_len]\n",
    "X_test = X_lagged[:, train_len+val_len:]\n",
    "y_test = y_lagged[:, train_len+val_len:]\n",
    "\n",
    "EWMAs_train = (EWMAs_lagged[0][:train_len+val_len], EWMAs_lagged[1][:train_len+val_len], EWMAs_lagged[2][:train_len+val_len])\n",
    "EWMAs_test_tripple = (EWMAs_lagged[0][train_len+val_len:], EWMAs_lagged[1][train_len+val_len:], EWMAs_lagged[2][train_len+val_len:])\n",
    "R_train = R_lagged[:train_len+val_len]\n",
    "R_test_tripple = R_lagged[train_len+val_len:]\n",
    "\n",
    "# Train model\n",
    "As_tripple, X_tests, R_tests_tripple = get_As(X_train, y_train, X_test, y_test, R_test_tripple, alpha_tripple, weighted, update_period)\n",
    "r_tilde_full_hat, R = predict_periodically(As_tripple, X_tests, R_tests_tripple)\n",
    "r_tilde_var_hat = get_R(EWMAs_test_tripple[2], r_tilde_full_hat)\n",
    "r_tilde_size_hat = get_R(EWMAs_test_tripple[1], r_tilde_var_hat)\n",
    "r_hat_tripple = r_tilde_size_hat * EWMAs_test_tripple[0]\n",
    "\n",
    "\n",
    "slope, intercept, r_value, p_value, std_err = scipy.stats.linregress(r_hat_tripple.flatten(), R_test_tripple.flatten())\n",
    "print(f\"Correlation: {r_value:.2%}\")\n",
    "print(f\"Beta:  {slope:.2}\")\n",
    "print(f\"Excess signs: {np.mean(np.sign(r_hat_tripple) == np.sign(R_test_tripple))-np.mean(R_test_tripple>0):.2%}\")"
   ]
  },
  {
   "cell_type": "code",
   "execution_count": 11,
   "metadata": {},
   "outputs": [],
   "source": [
    "def get_sqrt_cov_hat(EWMAs):\n",
    "    covs = []\n",
    "    for t in range(EWMAs[0].shape[0]):\n",
    "        covs.append(EWMAs[2][t] @ EWMAs[1][t] * EWMAs[0][t])\n",
    "    return np.array(covs)"
   ]
  },
  {
   "cell_type": "markdown",
   "metadata": {},
   "source": [
    "# Portfolios"
   ]
  },
  {
   "cell_type": "code",
   "execution_count": 12,
   "metadata": {},
   "outputs": [],
   "source": [
    "risk_des = 0.05\n",
    "\n",
    "### Sync dates; note, benchmark has memory 5 (all other have memory 1), and whitened methods lose 1 day + 100 days.\n",
    "r_hat_ewma_port = r_hat_ewmas[100+100+100+1:]\n",
    "r_hat_nw_port = r_hat_nw[100+100+100+1:]\n",
    "r_hat_std_port = r_hat_std[100+100+100+1:]\n",
    "r_hat_full_port =  r_hat_full[100+100:]\n",
    "r_hat_tripple_port = r_hat_tripple\n",
    "\n",
    "# Common data\n",
    "dates_port = dates_test_full[100+100:]\n",
    "sqrt_sigma_hats_full_port = EWMAs_test[100+100:]\n",
    "R_port = R_test_full[100+100:]\n",
    "sqrt_sigma_hats_tripple_port = get_sqrt_cov_hat(EWMAs_test_tripple)\n",
    "sqrt_sigma_hats_constant = np.array([sqrt_Sigma_hat for _ in range(dates_port.shape[0])])\n",
    "\n",
    "trader_EWMA = Trader(R_port, r_hat_ewma_port, sqrt_sigma_hats_full_port, dates=dates_port)\n",
    "trader_nw = Trader(R_port, r_hat_nw_port, sqrt_sigma_hats_full_port, dates=dates_port)\n",
    "trader_std = Trader(R_port, r_hat_std_port, sqrt_sigma_hats_full_port, dates=dates_port)\n",
    "trader_full = Trader(R_port, r_hat_full_port, sqrt_sigma_hats_full_port, dates=dates_port)\n",
    "trader_tripple = Trader(R_port, r_hat_tripple_port, sqrt_sigma_hats_full_port, dates=dates_port)"
   ]
  },
  {
   "cell_type": "code",
   "execution_count": 13,
   "metadata": {},
   "outputs": [],
   "source": [
    "def get_turnover(ws):\n",
    "    turnovers = []\n",
    "    for t in range(1,len(ws)):\n",
    "        w_tm = ws[t-1]\n",
    "        w_t = ws[t]\n",
    "        turnovers.append(np.linalg.norm(w_tm-w_t, ord=1))\n",
    "    return np.mean(turnovers)\n"
   ]
  },
  {
   "cell_type": "code",
   "execution_count": 17,
   "metadata": {},
   "outputs": [],
   "source": [
    "# print(\"EWMA: \", get_turnover(trader_EWMA.ws))\n",
    "# print(\"No whitening: \", get_turnover(trader_nw.ws))\n",
    "# print(\"Static whitening: \", get_turnover(trader_std.ws))\n",
    "# print(\"Whitening: \", get_turnover(trader_tripple.ws))"
   ]
  },
  {
   "cell_type": "code",
   "execution_count": null,
   "metadata": {},
   "outputs": [
    {
     "name": "stderr",
     "output_type": "stream",
     "text": [
      "100%|██████████| 4174/4174 [01:51<00:00, 37.33it/s]\n",
      "100%|██████████| 4174/4174 [01:27<00:00, 47.73it/s]\n",
      "100%|██████████| 4174/4174 [01:25<00:00, 48.64it/s]\n",
      "100%|██████████| 4174/4174 [01:25<00:00, 48.67it/s]\n",
      "100%|██████████| 4174/4174 [01:26<00:00, 48.09it/s]\n"
     ]
    }
   ],
   "source": [
    "trader_EWMA.backtest(risk_des=risk_des)\n",
    "trader_nw.backtest(risk_des=risk_des)\n",
    "trader_std.backtest(risk_des=risk_des)\n",
    "trader_full.backtest(risk_des=risk_des)\n",
    "trader_tripple.backtest(risk_des=risk_des)"
   ]
  },
  {
   "cell_type": "code",
   "execution_count": null,
   "metadata": {},
   "outputs": [
    {
     "name": "stdout",
     "output_type": "stream",
     "text": [
      "Mean yearly return (portfolio): 6.02%\n",
      "Yearly risk (portfolio): 5.19%\n",
      "Sharpe ratio:  1.16\n"
     ]
    },
    {
     "data": {
      "image/png": "[encoded data removed]",
      "text/plain": [
       "<Figure size 432x288 with 1 Axes>"
      ]
     },
     "metadata": {},
     "output_type": "display_data"
    }
   ],
   "source": [
    "benchmark_portfolios = {\"EWMA benchmark\": trader_EWMA, \"No whitening\": trader_nw, \"Static whitening\": trader_std}\n",
    "trader_tripple.show_performance(benchmarks=benchmark_portfolios, label=\"Dynamic whitening\", title=\"\")"
   ]
  },
  {
   "cell_type": "code",
   "execution_count": null,
   "metadata": {},
   "outputs": [
    {
     "name": "stdout",
     "output_type": "stream",
     "text": [
      "EWMA benchmark\n",
      "Mean yearly return (portfolio): 3.70%\n",
      "Yearly risk (portfolio): 5.19%\n",
      "Sharpe ratio: 0.71\n",
      "\n",
      "No standardization\n",
      "Mean yearly return (portfolio): 4.27%\n",
      "Yearly risk (portfolio): 5.08%\n",
      "Sharpe ratio: 0.84\n",
      "\n",
      "Regular standardization\n",
      "Mean yearly return (portfolio): 3.53%\n",
      "Yearly risk (portfolio): 5.31%\n",
      "Sharpe ratio: 0.66\n",
      "\n",
      "Dynamic standardization\n",
      "Mean yearly return (portfolio): 6.22%\n",
      "Yearly risk (portfolio): 5.14%\n",
      "Sharpe ratio: 1.2\n",
      "\n",
      "Tripple standardization\n",
      "Mean yearly return (portfolio): 6.02%\n",
      "Yearly risk (portfolio): 5.19%\n",
      "Sharpe ratio: 1.2\n"
     ]
    }
   ],
   "source": [
    "print(\"EWMA benchmark\"); trader_EWMA.get_metrics()\n",
    "print(\"\\nNo standardization\"); trader_nw.get_metrics()\n",
    "print(\"\\nRegular standardization\"); trader_std.get_metrics()\n",
    "print(\"\\nDynamic standardization\"); trader_full.get_metrics()\n",
    "print(\"\\nTripple standardization\"); trader_tripple.get_metrics()"
   ]
  }
 ],
 "metadata": {
  "kernelspec": {
   "display_name": "Python 3.9.12 ('base')",
   "language": "python",
   "name": "python3"
  },
  "language_info": {
   "codemirror_mode": {
    "name": "ipython",
    "version": 3
   },
   "file_extension": ".py",
   "mimetype": "text/x-python",
   "name": "python",
   "nbconvert_exporter": "python",
   "pygments_lexer": "ipython3",
   "version": "3.9.12"
  },
  "orig_nbformat": 4,
  "vscode": {
   "interpreter": {
    "hash": "702c15f110354dbaae5002fcbafb14f8aafbfaf3ae563f0ccb7fe319bd1497e0"
   }
  }
 },
 "nbformat": 4,
 "nbformat_minor": 2
}
