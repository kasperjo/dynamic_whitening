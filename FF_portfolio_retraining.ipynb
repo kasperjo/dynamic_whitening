{
 "cells": [
  {
   "cell_type": "code",
   "execution_count": 1,
   "metadata": {},
   "outputs": [],
   "source": [
    "from whitening_model import *\n",
    "import pandas as pd\n",
    "from utils import *\n",
    "from tqdm import trange\n",
    "import seaborn as sns\n",
    "import matplotlib.pyplot as plt\n",
    "from trading_model import *\n",
    "from AR_model import *\n",
    "import itertools\n",
    "sns.set()\n",
    "sns.set(font_scale=1.5)\n",
    "import scipy\n",
    "\n",
    "%load_ext autoreload\n",
    "%autoreload 2"
   ]
  },
  {
   "cell_type": "code",
   "execution_count": 46,
   "metadata": {},
   "outputs": [],
   "source": [
    "FF = pd.read_csv('FF_data.CSV')\n",
    "FF = FF.rename(columns={'Unnamed: 0': \"date\"})\n",
    "FF.index = pd.to_datetime(FF['date'].astype(str), format='%Y/%m/%d')\n",
    "FF = FF.drop(['date', 'RF'], axis=1)\n",
    "FF = FF/100\n",
    "# FF = FF.loc['1985-01-01':'2000-01-01']\n",
    "FF = FF.loc['2000-01-01':]\n",
    "\n",
    "\n",
    "train_frac = 0.35\n",
    "val_frac = 0.35\n",
    "train_len = int(train_frac*FF.shape[0])\n",
    "val_len = int(val_frac*FF.shape[0])\n",
    "data = FF.values\n",
    "dates = FF.index"
   ]
  },
  {
   "cell_type": "markdown",
   "metadata": {},
   "source": [
    "# EWMA benchmark"
   ]
  },
  {
   "cell_type": "code",
   "execution_count": 11,
   "metadata": {},
   "outputs": [
    {
     "name": "stdout",
     "output_type": "stream",
     "text": [
      "Correlation: -0.01%\n",
      "Beta:  -0.0015\n",
      "Correct sign: 50.59%\n",
      "Observed positive returns: 49.57%\n",
      "Excess sign: 1.01%\n"
     ]
    }
   ],
   "source": [
    "T_half = 50\n",
    "\n",
    "beta = np.exp(-np.log(2)/T_half)\n",
    "r_ewmas = get_EWMAs(data, beta)\n",
    "r_hat_ewmas = r_ewmas[train_len+val_len:-1]\n",
    "data_test_ewma = data[train_len+val_len+1:]\n",
    "dates_ewma = dates[train_len+val_len:-1]\n",
    "\n",
    "slope, intercept, r_value, p_value, std_err = scipy.stats.linregress(r_hat_ewmas.flatten(), data_test_ewma.flatten())\n",
    "print(f\"Correlation: {r_value:.2%}\")\n",
    "print(f\"Beta:  {slope:.2}\")\n",
    "print(f\"Correct sign: {np.mean(np.sign(r_hat_ewmas) == np.sign(data_test_ewma)):.2%}\")\n",
    "print(f\"Observed positive returns: {np.mean(data_test_ewma>0):.2%}\")\n",
    "print(f\"Excess sign: {np.mean(np.sign(r_hat_ewmas) == np.sign(data_test_ewma))-np.mean(data_test_ewma>0):.2%}\")"
   ]
  },
  {
   "cell_type": "markdown",
   "metadata": {},
   "source": [
    "# No standardization"
   ]
  },
  {
   "cell_type": "code",
   "execution_count": 34,
   "metadata": {},
   "outputs": [
    {
     "name": "stdout",
     "output_type": "stream",
     "text": [
      "Correlation: 3.88%\n",
      "Beta:  6.4e+08\n",
      "Correct sign: 50.11%\n",
      "Observed positive returns: 49.57%\n",
      "Excess sign: 0.54%\n"
     ]
    }
   ],
   "source": [
    "### Get data in lagged format\n",
    "memory_nw = 1\n",
    "alpha_nw = 1e6\n",
    "\n",
    "pred_horizon = 0\n",
    "weighted = True\n",
    "\n",
    "update_period = int(252/2)\n",
    "\n",
    "### Define features\n",
    "sigmas = np.std(data[:train_len+val_len], axis=0).reshape(1,-1)\n",
    "hi = get_hi(data, sigmas)\n",
    "lo = get_lo(data, sigmas)\n",
    "pos = get_pos(data)\n",
    "neg = get_neg(data)\n",
    "\n",
    "ma2 = moving_average(data, 2)\n",
    "sigmas2 = np.std(ma2[:train_len+val_len], axis=0).reshape(1,-1)\n",
    "hi2 = get_hi(ma2, sigmas2)\n",
    "lo2 = get_lo(ma2, sigmas2)\n",
    "pos2 = get_pos(ma2)\n",
    "neg2 = get_neg(ma2)\n",
    "\n",
    "ma4 = moving_average(data, 4)\n",
    "sigmas4 = np.std(ma4[:train_len+val_len], axis=0).reshape(1,-1)\n",
    "hi4 = get_hi(ma4, sigmas4)\n",
    "lo4 = get_lo(ma4, sigmas4)\n",
    "pos4 = get_pos(ma4)\n",
    "neg4 = get_neg(ma4)\n",
    "\n",
    "ma8 = moving_average(data, 8)\n",
    "sigmas8 = np.std(ma8[:train_len+val_len], axis=0).reshape(1,-1)\n",
    "hi8 = get_hi(ma8, sigmas8)\n",
    "lo8 = get_lo(ma8, sigmas8)\n",
    "pos8 = get_pos(ma8)\n",
    "neg8 = get_neg(ma8)\n",
    "\n",
    "ma16 = moving_average(data, 16)\n",
    "sigmas16 = np.std(ma16[:train_len+val_len], axis=0).reshape(1,-1)\n",
    "hi16 = get_hi(ma16, sigmas16)\n",
    "lo16 = get_lo(ma16, sigmas16)\n",
    "pos16 = get_pos(ma16)\n",
    "neg16 = get_neg(ma16)\n",
    "\n",
    "ma32 = moving_average(data, 32)\n",
    "sigmas32 = np.std(ma32[:train_len+val_len], axis=0).reshape(1,-1)\n",
    "hi32 = get_hi(ma32, sigmas32)\n",
    "lo32 = get_lo(ma32, sigmas32)\n",
    "pos32 = get_pos(ma32)\n",
    "neg32 = get_neg(ma32)\n",
    "\n",
    "features = np.hstack([hi, lo, pos, neg, ma2, ma4, ma8, ma16, ma32, hi2, hi4, hi8, hi16, hi32, lo2, lo4, lo8, lo16, lo32,\\\n",
    "    pos2, pos4, pos8, pos16, pos32, neg2, neg4, neg8, neg16, neg32])\n",
    "\n",
    "\n",
    "X_lagged, y_lagged, R_lagged, dates_lagged = get_AR_format_with_features(data, memory_nw, features, dates=dates, pred_horizon=pred_horizon)\n",
    "X_train = X_lagged[:, train_len:train_len+val_len]\n",
    "y_train = y_lagged[:, train_len:train_len+val_len]\n",
    "X_test = X_lagged[:, train_len+val_len:]\n",
    "y_test = y_lagged[:, train_len+val_len:]\n",
    "R_train = R_lagged[:train_len+val_len]\n",
    "R_test_nw = R_lagged[train_len+val_len:]\n",
    "dates_test_nw = dates_lagged[train_len+val_len:]\n",
    "\n",
    "As_nw, X_tests, R_tests_nw = get_As(X_train, y_train, X_test, y_test, R_test_nw, alpha_nw, weighted, update_period=update_period)\n",
    "r_hat_nw, R = predict_periodically(As_nw, X_tests, R_tests_nw)\n",
    "\n",
    "# A_nw = get_A(X_train, y_train, alpha_nw, weighted=weighted)\n",
    "# r_hat_nw = predict(A_nw, X_test) \n",
    "\n",
    "slope, intercept, r_value, p_value, std_err = scipy.stats.linregress(r_hat_nw.flatten(), R_test_nw.flatten())\n",
    "print(f\"Correlation: {r_value:.2%}\")\n",
    "print(f\"Beta:  {slope:.2}\")\n",
    "print(f\"Correct sign: {np.mean(np.sign(r_hat_nw) == np.sign(R_test_nw)):.2%}\")\n",
    "print(f\"Observed positive returns: {np.mean(R_test_nw>0):.2%}\")\n",
    "print(f\"Excess sign: {np.mean(np.sign(r_hat_nw) == np.sign(R_test_nw))-np.mean(R_test_nw>0):.2%}\")"
   ]
  },
  {
   "cell_type": "markdown",
   "metadata": {},
   "source": [
    "# Regular standardization"
   ]
  },
  {
   "cell_type": "code",
   "execution_count": 15,
   "metadata": {},
   "outputs": [
    {
     "name": "stdout",
     "output_type": "stream",
     "text": [
      "Correlation: 2.84%\n",
      "Beta:  0.086\n",
      "Correct sign: 49.42%\n",
      "Observed positive returns: 49.57%\n",
      "Excess sign: -0.15%\n"
     ]
    }
   ],
   "source": [
    "### Get data in lagged format\n",
    "memory_std = 1\n",
    "alpha_std = 1e-4\n",
    "\n",
    "pred_horizon = 0\n",
    "weighted = True\n",
    "\n",
    "r_tildes, sqrt_Sigma_hat = get_standerdized_data(data, train_len)\n",
    "\n",
    "### Define features\n",
    "sigmas = np.std(r_tildes[:train_len+val_len], axis=0).reshape(1,-1)\n",
    "hi = get_hi(r_tildes, sigmas)\n",
    "lo = get_lo(r_tildes, sigmas)\n",
    "pos = get_pos(r_tildes)\n",
    "neg = get_neg(r_tildes)\n",
    "\n",
    "ma2 = moving_average(r_tildes, 2)\n",
    "sigmas2 = np.std(ma2[:train_len+val_len], axis=0).reshape(1,-1)\n",
    "hi2 = get_hi(ma2, sigmas2)\n",
    "lo2 = get_lo(ma2, sigmas2)\n",
    "pos2 = get_pos(ma2)\n",
    "neg2 = get_neg(ma2)\n",
    "\n",
    "ma4 = moving_average(r_tildes, 4)\n",
    "sigmas4 = np.std(ma4[:train_len+val_len], axis=0).reshape(1,-1)\n",
    "hi4 = get_hi(ma4, sigmas4)\n",
    "lo4 = get_lo(ma4, sigmas4)\n",
    "pos4 = get_pos(ma4)\n",
    "neg4 = get_neg(ma4)\n",
    "\n",
    "ma8 = moving_average(r_tildes, 8)\n",
    "sigmas8 = np.std(ma8[:train_len+val_len], axis=0).reshape(1,-1)\n",
    "hi8 = get_hi(ma8, sigmas8)\n",
    "lo8 = get_lo(ma8, sigmas8)\n",
    "pos8 = get_pos(ma8)\n",
    "neg8 = get_neg(ma8)\n",
    "\n",
    "ma16 = moving_average(r_tildes, 16)\n",
    "sigmas16 = np.std(ma16[:train_len+val_len], axis=0).reshape(1,-1)\n",
    "hi16 = get_hi(ma16, sigmas16)\n",
    "lo16 = get_lo(ma16, sigmas16)\n",
    "pos16 = get_pos(ma16)\n",
    "neg16 = get_neg(ma16)\n",
    "\n",
    "ma32 = moving_average(r_tildes, 32)\n",
    "sigmas32 = np.std(ma32[:train_len+val_len], axis=0).reshape(1,-1)\n",
    "hi32 = get_hi(ma32, sigmas32)\n",
    "lo32 = get_lo(ma32, sigmas32)\n",
    "pos32 = get_pos(ma32)\n",
    "neg32 = get_neg(ma32)\n",
    "\n",
    "features = np.hstack([hi, lo, pos, neg, ma2, ma4, ma8, ma16, ma32, hi2, hi4, hi8, hi16, hi32, lo2, lo4, lo8, lo16, lo32,\\\n",
    "    pos2, pos4, pos8, pos16, pos32, neg2, neg4, neg8, neg16, neg32])\n",
    "\n",
    "\n",
    "\n",
    "X_lagged, y_lagged, R_lagged, dates_lagged = get_AR_format_with_features(r_tildes, memory_std, features, data, dates=dates, pred_horizon=pred_horizon)\n",
    "\n",
    "X_train = X_lagged[:, :train_len+val_len]\n",
    "y_train = y_lagged[:, :train_len+val_len]\n",
    "\n",
    "X_test = X_lagged[:, train_len+val_len:]\n",
    "y_test = y_lagged[:, train_len+val_len:]\n",
    "R_train = R_lagged[:train_len+val_len]\n",
    "R_test_std = R_lagged[train_len+val_len:]\n",
    "dates_test_std = dates_lagged[train_len+val_len:]\n",
    "\n",
    "\n",
    "# Train model\n",
    "A_full = get_A(X_train, y_train, alpha_std, weighted=weighted)\n",
    "r_tilde_hat_std = predict(A_full, X_test) \n",
    "\n",
    "r_hat_std = (sqrt_Sigma_hat @ r_tilde_hat_std.T).T\n",
    "\n",
    "# print(f\"Correlatio tilde: {np.corrcoef(r_tilde_hat_std.flatten(), y_test.T.flatten())[0,1]:.2%}\")\n",
    "# print(f\"Correlatio r: {np.corrcoef(r_hat_std.flatten(), R_test_std.flatten())[0,1]:.2%}\")\n",
    "\n",
    "slope, intercept, r_value, p_value, std_err = scipy.stats.linregress(r_hat_std.flatten(), R_test_std.flatten())\n",
    "print(f\"Correlation: {r_value:.2%}\")\n",
    "print(f\"Beta:  {slope:.2}\")\n",
    "print(f\"Correct sign: {np.mean(np.sign(r_hat_std) == np.sign(R_test_std)):.2%}\")\n",
    "print(f\"Observed positive returns: {np.mean(R_test_std>0):.2%}\")\n",
    "print(f\"Excess sign: {np.mean(np.sign(r_hat_std) == np.sign(R_test_std))-np.mean(R_test_std>0):.2%}\")"
   ]
  },
  {
   "cell_type": "markdown",
   "metadata": {},
   "source": [
    "# Dynamic standardization"
   ]
  },
  {
   "cell_type": "code",
   "execution_count": 48,
   "metadata": {},
   "outputs": [
    {
     "name": "stdout",
     "output_type": "stream",
     "text": [
      "Correlation: 6.29%\n",
      "Beta:  0.37\n",
      "Excess signs: 1.03%\n"
     ]
    }
   ],
   "source": [
    "### Get data in lagged format\n",
    "memory_full = 1\n",
    "alpha_full = 0.1\n",
    "\n",
    "pred_horizon = 0\n",
    "weighted = True\n",
    "update_period = int(252/2)\n",
    "\n",
    "\n",
    "T_half = 50\n",
    "\n",
    "beta = np.exp(-np.log(2)/T_half)\n",
    "EWMAs, r_tildes, R_new, skipped_R = get_whitened_data(data, whitener='Cov', beta=beta, EWMA_reg=0)\n",
    "\n",
    "### Define features\n",
    "sigmas = np.std(r_tildes[:train_len+val_len], axis=0).reshape(1,-1)\n",
    "hi = get_hi(r_tildes, sigmas)\n",
    "lo = get_lo(r_tildes, sigmas)\n",
    "pos = get_pos(r_tildes)\n",
    "neg = get_neg(r_tildes)\n",
    "\n",
    "ma2 = moving_average(r_tildes, 2)\n",
    "sigmas2 = np.std(ma2[:train_len+val_len], axis=0).reshape(1,-1)\n",
    "hi2 = get_hi(ma2, sigmas2)\n",
    "lo2 = get_lo(ma2, sigmas2)\n",
    "pos2 = get_pos(ma2)\n",
    "neg2 = get_neg(ma2)\n",
    "\n",
    "ma4 = moving_average(r_tildes, 4)\n",
    "sigmas4 = np.std(ma4[:train_len+val_len], axis=0).reshape(1,-1)\n",
    "hi4 = get_hi(ma4, sigmas4)\n",
    "lo4 = get_lo(ma4, sigmas4)\n",
    "pos4 = get_pos(ma4)\n",
    "neg4 = get_neg(ma4)\n",
    "\n",
    "ma8 = moving_average(r_tildes, 8)\n",
    "sigmas8 = np.std(ma8[:train_len+val_len], axis=0).reshape(1,-1)\n",
    "hi8 = get_hi(ma8, sigmas8)\n",
    "lo8 = get_lo(ma8, sigmas8)\n",
    "pos8 = get_pos(ma8)\n",
    "neg8 = get_neg(ma8)\n",
    "\n",
    "ma16 = moving_average(r_tildes, 16)\n",
    "sigmas16 = np.std(ma16[:train_len+val_len], axis=0).reshape(1,-1)\n",
    "hi16 = get_hi(ma16, sigmas16)\n",
    "lo16 = get_lo(ma16, sigmas16)\n",
    "pos16 = get_pos(ma16)\n",
    "neg16 = get_neg(ma16)\n",
    "\n",
    "ma32 = moving_average(r_tildes, 32)\n",
    "sigmas32 = np.std(ma32[:train_len+val_len], axis=0).reshape(1,-1)\n",
    "hi32 = get_hi(ma32, sigmas32)\n",
    "lo32 = get_lo(ma32, sigmas32)\n",
    "pos32 = get_pos(ma32)\n",
    "neg32 = get_neg(ma32)\n",
    "\n",
    "features = np.hstack([hi, lo, pos, neg, ma2, ma4, ma8, ma16, ma32, hi2, hi4, hi8, hi16, hi32, lo2, lo4, lo8, lo16, lo32,\\\n",
    "    pos2, pos4, pos8, pos16, pos32, neg2, neg4, neg8, neg16, neg32])\n",
    " \n",
    "X_lagged, y_lagged, R_lagged, EWMAs_lagged,\\\n",
    "     dates_lagged = get_AR_format_with_features(r_tildes, memory_full, features, R_new, EWMAs, dates=dates[skipped_R:], pred_horizon=pred_horizon)\n",
    "X_train = X_lagged[:, :train_len+val_len]\n",
    "y_train = y_lagged[:, :train_len+val_len]\n",
    "\n",
    "X_test = X_lagged[:, train_len+val_len:]\n",
    "y_test = y_lagged[:, train_len+val_len:]\n",
    "EWMAs_train = EWMAs_lagged[:train_len+val_len]\n",
    "EWMAs_test = EWMAs_lagged[train_len+val_len:]\n",
    "R_train = R_lagged[:train_len+val_len]\n",
    "R_test_full = R_lagged[train_len+val_len:]\n",
    "dates_test_full = dates_lagged[train_len+val_len:]\n",
    "\n",
    "\n",
    "# Train model\n",
    "As_full, X_tests, R_tests_full = get_As(X_train, y_train, X_test, y_test, R_test_full, alpha_full, weighted, update_period=update_period)\n",
    "r_tilde_hat, R = predict_periodically(As_full, X_tests, R_tests_full)\n",
    "r_hat_full = get_R(EWMAs_test, r_tilde_hat)\n",
    "\n",
    "slope, intercept, r_value, p_value, std_err = scipy.stats.linregress(r_hat_full.flatten(), R_test_full.flatten())\n",
    "print(f\"Correlation: {r_value:.2%}\")\n",
    "print(f\"Beta:  {slope:.2}\")\n",
    "print(f\"Excess signs: {np.mean(np.sign(r_hat_full) == np.sign(R_test_full))-np.mean(R_test_full>0):.2%}\")"
   ]
  },
  {
   "cell_type": "markdown",
   "metadata": {},
   "source": [
    "# Tripple whitening"
   ]
  },
  {
   "cell_type": "code",
   "execution_count": 47,
   "metadata": {},
   "outputs": [
    {
     "name": "stdout",
     "output_type": "stream",
     "text": [
      "Correlation: 6.53%\n",
      "Beta:  0.31\n",
      "Excess signs: 1.48%\n"
     ]
    }
   ],
   "source": [
    "memory_tripple = 1\n",
    "alpha_tripple = 0.01\n",
    "\n",
    "pred_horizon = 0\n",
    "weighted = True\n",
    "update_period = int(252/2)\n",
    "\n",
    "\n",
    "T_half1 = 5\n",
    "T_half2 = 21\n",
    "T_half3 = 63\n",
    "\n",
    "beta1 = np.exp(-np.log(2)/T_half1)\n",
    "beta2 = np.exp(-np.log(2)/T_half2)\n",
    "beta3 = np.exp(-np.log(2)/T_half3)\n",
    "\n",
    "(sqrt_size_hats, sqrt_V_hats, sqrt_Sigma_hats), (r_tildes_size, r_tildes_var, r_tildes_full), R_new, skipped_R  \\\n",
    "    = get_whitened_data(data, whitener='tripple', beta=(beta1,beta2,beta3), EWMA_reg=0)\n",
    "EWMAs = (sqrt_size_hats, sqrt_V_hats, sqrt_Sigma_hats)\n",
    "tildes = (r_tildes_size, r_tildes_var, r_tildes_full)\n",
    "\n",
    "\n",
    "### Define features\n",
    "sigmas = np.std(r_tildes_full[:train_len+val_len], axis=0).reshape(1,-1)\n",
    "hi = get_hi(r_tildes_full, sigmas)\n",
    "lo = get_lo(r_tildes_full, sigmas)\n",
    "pos = get_pos(r_tildes_full)\n",
    "neg = get_neg(r_tildes_full)\n",
    "\n",
    "ma2 = moving_average(r_tildes_full, 2)\n",
    "sigmas2 = np.std(ma2[:train_len+val_len], axis=0).reshape(1,-1)\n",
    "hi2 = get_hi(ma2, sigmas2)\n",
    "lo2 = get_lo(ma2, sigmas2)\n",
    "pos2 = get_pos(ma2)\n",
    "neg2 = get_neg(ma2)\n",
    "\n",
    "ma4 = moving_average(r_tildes_full, 4)\n",
    "sigmas4 = np.std(ma4[:train_len+val_len], axis=0).reshape(1,-1)\n",
    "hi4 = get_hi(ma4, sigmas4)\n",
    "lo4 = get_lo(ma4, sigmas4)\n",
    "pos4 = get_pos(ma4)\n",
    "neg4 = get_neg(ma4)\n",
    "\n",
    "ma8 = moving_average(r_tildes_full, 8)\n",
    "sigmas8 = np.std(ma8[:train_len+val_len], axis=0).reshape(1,-1)\n",
    "hi8 = get_hi(ma8, sigmas8)\n",
    "lo8 = get_lo(ma8, sigmas8)\n",
    "pos8 = get_pos(ma8)\n",
    "neg8 = get_neg(ma8)\n",
    "\n",
    "ma16 = moving_average(r_tildes_full, 16)\n",
    "sigmas16 = np.std(ma16[:train_len+val_len], axis=0).reshape(1,-1)\n",
    "hi16 = get_hi(ma16, sigmas16)\n",
    "lo16 = get_lo(ma16, sigmas16)\n",
    "pos16 = get_pos(ma16)\n",
    "neg16 = get_neg(ma16)\n",
    "\n",
    "ma32 = moving_average(r_tildes_full, 32)\n",
    "sigmas32 = np.std(ma32[:train_len+val_len], axis=0).reshape(1,-1)\n",
    "hi32 = get_hi(ma32, sigmas32)\n",
    "lo32 = get_lo(ma32, sigmas32)\n",
    "pos32 = get_pos(ma32)\n",
    "neg32 = get_neg(ma32)\n",
    "\n",
    "features = np.hstack([hi, lo, pos, neg, ma2, ma4, ma8, ma16, ma32, hi2, hi4, hi8, hi16, hi32, lo2, lo4, lo8, lo16, lo32,\\\n",
    "    pos2, pos4, pos8, pos16, pos32, neg2, neg4, neg8, neg16, neg32])\n",
    "\n",
    "### Get data in lagged format\n",
    "X_lagged, y_lagged, R_lagged, EWMAs_lagged = get_AR_format_with_features(r_tildes_full, memory_tripple, features, R_new, EWMAs, pred_horizon=pred_horizon)\n",
    "\n",
    "X_train = X_lagged[:, :train_len+val_len]\n",
    "y_train = y_lagged[:, :train_len+val_len]\n",
    "X_test = X_lagged[:, train_len+val_len:]\n",
    "y_test = y_lagged[:, train_len+val_len:]\n",
    "\n",
    "EWMAs_train = (EWMAs_lagged[0][:train_len+val_len], EWMAs_lagged[1][:train_len+val_len], EWMAs_lagged[2][:train_len+val_len])\n",
    "EWMAs_test_tripple = (EWMAs_lagged[0][train_len+val_len:], EWMAs_lagged[1][train_len+val_len:], EWMAs_lagged[2][train_len+val_len:])\n",
    "R_train = R_lagged[:train_len+val_len]\n",
    "R_test_tripple = R_lagged[train_len+val_len:]\n",
    "\n",
    "# Train model\n",
    "As_tripple, X_tests, R_tests_tripple = get_As(X_train, y_train, X_test, y_test, R_test_tripple, alpha_tripple, weighted, update_period)\n",
    "r_tilde_full_hat, R = predict_periodically(As_tripple, X_tests, R_tests_tripple)\n",
    "r_tilde_var_hat = get_R(EWMAs_test_tripple[2], r_tilde_full_hat)\n",
    "r_tilde_size_hat = get_R(EWMAs_test_tripple[1], r_tilde_var_hat)\n",
    "r_hat_tripple = r_tilde_size_hat * EWMAs_test_tripple[0]\n",
    "\n",
    "\n",
    "slope, intercept, r_value, p_value, std_err = scipy.stats.linregress(r_hat_tripple.flatten(), R_test_tripple.flatten())\n",
    "print(f\"Correlation: {r_value:.2%}\")\n",
    "print(f\"Beta:  {slope:.2}\")\n",
    "print(f\"Excess signs: {np.mean(np.sign(r_hat_tripple) == np.sign(R_test_tripple))-np.mean(R_test_tripple>0):.2%}\")"
   ]
  },
  {
   "cell_type": "code",
   "execution_count": 17,
   "metadata": {},
   "outputs": [],
   "source": [
    "def get_sqrt_cov_hat(EWMAs):\n",
    "    covs = []\n",
    "    for t in range(EWMAs[0].shape[0]):\n",
    "        covs.append(EWMAs[2][t] @ EWMAs[1][t] * EWMAs[0][t])\n",
    "    return np.array(covs)"
   ]
  },
  {
   "cell_type": "markdown",
   "metadata": {},
   "source": [
    "# Portfolios"
   ]
  },
  {
   "cell_type": "code",
   "execution_count": 39,
   "metadata": {},
   "outputs": [],
   "source": [
    "risk_des = 0.05\n",
    "\n",
    "### Sync dates; note, benchmark has memory 5 (all other have memory 1), and whitened methods lose 1 day + 100 days.\n",
    "r_hat_ewma_port = r_hat_ewmas[100+100+100+1:]\n",
    "r_hat_nw_port = r_hat_nw[100+100+100+1:]\n",
    "r_hat_std_port = r_hat_std[100+100+100+1:]\n",
    "r_hat_full_port =  r_hat_full[100+100:]\n",
    "r_hat_tripple_port = r_hat_tripple\n",
    "\n",
    "# Common data\n",
    "dates_port = dates_test_full[100+100:]\n",
    "sqrt_sigma_hats_full_port = EWMAs_test[100+100:]\n",
    "R_port = R_test_full[100+100:]\n",
    "sqrt_sigma_hats_tripple_port = get_sqrt_cov_hat(EWMAs_test_tripple)\n",
    "sqrt_sigma_hats_constant = np.array([sqrt_Sigma_hat for _ in range(dates_port.shape[0])])\n",
    "\n",
    "trader_EWMA = Trader(R_port, r_hat_ewma_port, sqrt_sigma_hats_full_port, dates=dates_port)\n",
    "trader_nw = Trader(R_port, r_hat_nw_port, sqrt_sigma_hats_full_port, dates=dates_port)\n",
    "trader_std = Trader(R_port, r_hat_std_port, sqrt_sigma_hats_full_port, dates=dates_port)\n",
    "trader_full = Trader(R_port, r_hat_full_port, sqrt_sigma_hats_full_port, dates=dates_port)\n",
    "trader_tripple = Trader(R_port, r_hat_tripple_port, sqrt_sigma_hats_tripple_port, dates=dates_port)"
   ]
  },
  {
   "cell_type": "code",
   "execution_count": 69,
   "metadata": {},
   "outputs": [
    {
     "name": "stderr",
     "output_type": "stream",
     "text": [
      "100%|██████████| 4174/4174 [01:27<00:00, 47.58it/s]\n"
     ]
    }
   ],
   "source": [
    "trader_nw.backtest(risk_des=risk_des)\n"
   ]
  },
  {
   "cell_type": "code",
   "execution_count": 40,
   "metadata": {},
   "outputs": [
    {
     "name": "stderr",
     "output_type": "stream",
     "text": [
      "100%|██████████| 1416/1416 [00:30<00:00, 46.35it/s]\n",
      "100%|██████████| 1416/1416 [00:30<00:00, 47.02it/s]\n",
      "100%|██████████| 1416/1416 [00:30<00:00, 46.94it/s]\n"
     ]
    }
   ],
   "source": [
    "# trader_EWMA.backtest(risk_des=risk_des)\n",
    "trader_nw.backtest(risk_des=risk_des)\n",
    "# trader_std.backtest(risk_des=risk_des)\n",
    "trader_full.backtest(risk_des=risk_des)\n",
    "trader_tripple.backtest(risk_des=risk_des)"
   ]
  },
  {
   "cell_type": "code",
   "execution_count": 41,
   "metadata": {},
   "outputs": [
    {
     "name": "stdout",
     "output_type": "stream",
     "text": [
      "\n",
      "No standardization\n",
      "Mean yearly return (portfolio): 0.14%\n",
      "Yearly risk (portfolio): 3.50%\n",
      "Sharpe ratio: 0.041\n",
      "\n",
      "Dynamic standardization\n",
      "Mean yearly return (portfolio): 2.64%\n",
      "Yearly risk (portfolio): 5.03%\n",
      "Sharpe ratio: 0.53\n",
      "\n",
      "Tripple standardization\n",
      "Mean yearly return (portfolio): 3.66%\n",
      "Yearly risk (portfolio): 4.53%\n",
      "Sharpe ratio: 0.81\n"
     ]
    }
   ],
   "source": [
    "# print(\"EWMA benchmark\"); trader_EWMA.get_metrics()\n",
    "print(\"\\nNo standardization\"); trader_nw.get_metrics()\n",
    "# print(\"\\nRegular standardization\"); trader_std.get_metrics()\n",
    "print(\"\\nDynamic standardization\"); trader_full.get_metrics()\n",
    "print(\"\\nTripple standardization\"); trader_tripple.get_metrics()"
   ]
  },
  {
   "cell_type": "code",
   "execution_count": 42,
   "metadata": {},
   "outputs": [
    {
     "data": {
      "text/plain": [
       "array([[1.        , 0.06531287],\n",
       "       [0.06531287, 1.        ]])"
      ]
     },
     "execution_count": 42,
     "metadata": {},
     "output_type": "execute_result"
    }
   ],
   "source": [
    "np.corrcoef(trader_tripple.R_hat.flatten(), trader_tripple.R.flatten())"
   ]
  },
  {
   "cell_type": "code",
   "execution_count": 43,
   "metadata": {},
   "outputs": [
    {
     "name": "stdout",
     "output_type": "stream",
     "text": [
      "Mean yearly return (portfolio): 3.66%\n",
      "Yearly risk (portfolio): 4.53%\n",
      "Sharpe ratio:  0.81\n"
     ]
    },
    {
     "data": {
      "image/png": "[encoded data removed]",
      "text/plain": [
       "<Figure size 432x288 with 1 Axes>"
      ]
     },
     "metadata": {},
     "output_type": "display_data"
    }
   ],
   "source": [
    "benchmark_portfolios = { \"No standardization\": trader_nw,\n",
    "\"Full whitening\": trader_full}\n",
    "trader_tripple.show_performance(benchmarks=benchmark_portfolios, label=\"Dynamic standardization\", title=\"ETFs\")"
   ]
  },
  {
   "cell_type": "code",
   "execution_count": null,
   "metadata": {},
   "outputs": [],
   "source": [
    "print(\"EWMA benchmark\"); trader_EWMA.get_metrics()\n",
    "print(\"\\nNo standardization\"); trader_nw.get_metrics()\n",
    "print(\"\\nRegular standardization\"); trader_std.get_metrics()\n",
    "print(\"\\nDynamic standardization\"); trader_full.get_metrics()\n",
    "print(\"\\nTripple standardization\"); trader_tripple.get_metrics()"
   ]
  },
  {
   "cell_type": "code",
   "execution_count": 49,
   "metadata": {},
   "outputs": [
    {
     "name": "stdout",
     "output_type": "stream",
     "text": [
      "EWMA benchmark\n",
      "Mean yearly return (portfolio): 2.74%\n",
      "Yearly risk (portfolio): 6.47%\n",
      "Sharpe ratio: 0.42\n",
      "\n",
      "No standardization\n",
      "Mean yearly return (portfolio): 5.27%\n",
      "Yearly risk (portfolio): 6.63%\n",
      "Sharpe ratio: 0.79\n",
      "\n",
      "Regular standardization\n",
      "Mean yearly return (portfolio): 3.43%\n",
      "Yearly risk (portfolio): 7.14%\n",
      "Sharpe ratio: 0.48\n",
      "\n",
      "Dynamic standardization\n",
      "Mean yearly return (portfolio): 5.26%\n",
      "Yearly risk (portfolio): 4.58%\n",
      "Sharpe ratio: 1.1\n",
      "\n",
      "Tripple standardization\n",
      "Mean yearly return (portfolio): 4.83%\n",
      "Yearly risk (portfolio): 4.48%\n",
      "Sharpe ratio: 1.1\n"
     ]
    }
   ],
   "source": [
    "print(\"EWMA benchmark\"); trader_EWMA.get_metrics()\n",
    "print(\"\\nNo standardization\"); trader_nw.get_metrics()\n",
    "print(\"\\nRegular standardization\"); trader_std.get_metrics()\n",
    "print(\"\\nDynamic standardization\"); trader_full.get_metrics()\n",
    "print(\"\\nTripple standardization\"); trader_tripple.get_metrics()"
   ]
  },
  {
   "cell_type": "code",
   "execution_count": 52,
   "metadata": {},
   "outputs": [
    {
     "name": "stdout",
     "output_type": "stream",
     "text": [
      "Mean yearly return (portfolio): 4.83%\n",
      "Yearly risk (portfolio): 4.48%\n",
      "Sharpe ratio:  1.08\n"
     ]
    },
    {
     "data": {
      "image/png": "[encoded data removed]",
      "text/plain": [
       "<Figure size 432x288 with 1 Axes>"
      ]
     },
     "metadata": {},
     "output_type": "display_data"
    }
   ],
   "source": [
    "benchmark_portfolios = {\"EWMA benchmark\": trader_EWMA, \"No standardization\": trader_nw, \"Regular standardization\": trader_std\\\n",
    "    , \"Dynamic standardization\": trader_full}\n",
    "trader_tripple.show_performance(benchmarks=benchmark_portfolios, label=\"Tripple standardization\", title=\"ETFs\")"
   ]
  },
  {
   "cell_type": "code",
   "execution_count": 24,
   "metadata": {},
   "outputs": [
    {
     "data": {
      "text/plain": [
       "(14615, 5)"
      ]
     },
     "execution_count": 24,
     "metadata": {},
     "output_type": "execute_result"
    }
   ],
   "source": [
    "r_tildes_var.shape"
   ]
  },
  {
   "cell_type": "code",
   "execution_count": 25,
   "metadata": {},
   "outputs": [
    {
     "data": {
      "text/plain": [
       "(14615, 5)"
      ]
     },
     "execution_count": 25,
     "metadata": {},
     "output_type": "execute_result"
    }
   ],
   "source": [
    "r_tildes_full.shape"
   ]
  },
  {
   "cell_type": "code",
   "execution_count": 74,
   "metadata": {},
   "outputs": [
    {
     "data": {
      "text/plain": [
       "0"
      ]
     },
     "execution_count": 74,
     "metadata": {},
     "output_type": "execute_result"
    }
   ],
   "source": [
    "trader_full.fails"
   ]
  },
  {
   "cell_type": "code",
   "execution_count": 80,
   "metadata": {},
   "outputs": [
    {
     "name": "stdout",
     "output_type": "stream",
     "text": [
      "Mean yearly return (portfolio): 5.26%\n",
      "Yearly risk (portfolio): 4.54%\n",
      "Sharpe ratio:  1.16\n"
     ]
    },
    {
     "data": {
      "image/png": "[encoded data removed]",
      "text/plain": [
       "<Figure size 432x288 with 1 Axes>"
      ]
     },
     "metadata": {},
     "output_type": "display_data"
    }
   ],
   "source": [
    "benchmark_portfolios = {\"Regular standardization\": trader_std}\n",
    "trader_full.show_performance(benchmarks=benchmark_portfolios, label=\"Dynamic standardization\", title=\"Portfolio growth\")"
   ]
  }
 ],
 "metadata": {
  "kernelspec": {
   "display_name": "Python 3.9.12 ('base')",
   "language": "python",
   "name": "python3"
  },
  "language_info": {
   "codemirror_mode": {
    "name": "ipython",
    "version": 3
   },
   "file_extension": ".py",
   "mimetype": "text/x-python",
   "name": "python",
   "nbconvert_exporter": "python",
   "pygments_lexer": "ipython3",
   "version": "3.9.12"
  },
  "orig_nbformat": 4,
  "vscode": {
   "interpreter": {
    "hash": "702c15f110354dbaae5002fcbafb14f8aafbfaf3ae563f0ccb7fe319bd1497e0"
   }
  }
 },
 "nbformat": 4,
 "nbformat_minor": 2
}
